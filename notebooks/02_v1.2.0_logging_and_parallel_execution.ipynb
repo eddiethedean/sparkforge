{
 "cells": [
  {
   "cell_type": "markdown",
   "metadata": {},
   "source": [
    "# SparkForge v1.2.0: Enhanced Logging & Parallel Execution\n",
    "\n",
    "This notebook demonstrates the new features in SparkForge v1.2.0:\n",
    "- 📊 Unified logging format with rich metrics\n",
    "- ⚡ Parallel execution with real-time visibility\n",
    "- 📈 Enhanced pipeline reporting\n",
    "- 💾 LogWriter for execution tracking\n"
   ]
  },
  {
   "cell_type": "markdown",
   "metadata": {},
   "source": [
    "## Setup\n",
    "\n",
    "First, let's import the required libraries and create a Spark session.\n"
   ]
  },
  {
   "cell_type": "code",
   "execution_count": null,
   "metadata": {},
   "outputs": [],
   "source": [
    "from mock_spark import MockSparkSession\n",
    "\n",
    "from sparkforge import PipelineBuilder\n",
    "\n",
    "# Create Spark session\n",
    "spark = MockSparkSession.builder.appName(\"SparkForge_v1.2.0_Demo\").getOrCreate()\n",
    "\n",
    "print(\"✅ Spark session created!\")\n",
    "print(\"📦 SparkForge version: 1.2.0\")\n"
   ]
  },
  {
   "cell_type": "markdown",
   "metadata": {},
   "source": [
    "## 1. Enhanced Logging Format\n",
    "\n",
    "### ✨ What's New in v1.2.0\n",
    "\n",
    "The logging system now provides rich, consistent output:\n",
    "- **Timestamps** on every message\n",
    "- **Visual indicators**: 🚀 Starting, ✅ Completed, ❌ Failed\n",
    "- **Detailed metrics**: rows processed, rows written, validation rates, invalid counts\n",
    "- **Smart formatting**: Bronze shows \"processed\", Silver/Gold show \"written\"\n",
    "\n",
    "Run the cells below to see it in action!\n"
   ]
  },
  {
   "cell_type": "code",
   "execution_count": null,
   "metadata": {},
   "outputs": [],
   "source": [
    "# Sample events data\n",
    "events_data = [(1, 100, \"click\"), (2, 101, \"purchase\"), (3, 102, \"view\")]\n",
    "profiles_data = [(100, \"Alice\"), (101, \"Bob\"), (102, \"Charlie\")]\n",
    "\n",
    "from mock_spark import IntegerType, MockStructField, MockStructType, StringType\n",
    "\n",
    "events_schema = MockStructType([\n",
    "    MockStructField(\"event_id\", IntegerType(), True),\n",
    "    MockStructField(\"user_id\", IntegerType(), True),\n",
    "    MockStructField(\"action\", StringType(), True),\n",
    "])\n",
    "\n",
    "profiles_schema = MockStructType([\n",
    "    MockStructField(\"user_id\", IntegerType(), True),\n",
    "    MockStructField(\"name\", StringType(), True),\n",
    "])\n",
    "\n",
    "events_df = spark.createDataFrame(events_data, events_schema)\n",
    "profiles_df = spark.createDataFrame(profiles_data, profiles_schema)\n",
    "\n",
    "print(f\"📊 Created events data: {len(events_data)} rows\")\n",
    "print(f\"📊 Created profiles data: {len(profiles_data)} rows\")\n"
   ]
  },
  {
   "cell_type": "markdown",
   "metadata": {},
   "source": [
    "## 2. Build Pipeline with Parallel Execution\n",
    "\n",
    "Notice how we define multiple independent steps. The execution engine will automatically:\n",
    "- Group independent steps together\n",
    "- Execute groups in parallel\n",
    "- Respect dependencies between layers\n"
   ]
  },
  {
   "cell_type": "code",
   "execution_count": null,
   "metadata": {},
   "outputs": [],
   "source": [
    "builder = PipelineBuilder(spark=spark, schema=\"analytics\")\n",
    "\n",
    "# Bronze layer - These will run in PARALLEL (Group 1)\n",
    "builder.with_bronze_rules(\n",
    "    name=\"bronze_events\",\n",
    "    rules={\"event_id\": [\"not_null\"], \"user_id\": [\"not_null\"]}\n",
    ")\n",
    "\n",
    "builder.with_bronze_rules(\n",
    "    name=\"bronze_profiles\",\n",
    "    rules={\"user_id\": [\"not_null\"]}\n",
    ")\n",
    "\n",
    "# Silver layer - These will run in PARALLEL (Group 2)\n",
    "builder.add_silver_transform(\n",
    "    name=\"silver_purchases\",\n",
    "    source_bronze=\"bronze_events\",\n",
    "    transform=lambda spark, df, silvers: df.filter(df[\"action\"] == \"purchase\"),\n",
    "    rules={\"user_id\": [\"not_null\"]},\n",
    "    table_name=\"silver_purchases\"\n",
    ")\n",
    "\n",
    "builder.add_silver_transform(\n",
    "    name=\"silver_customers\",\n",
    "    source_bronze=\"bronze_profiles\",\n",
    "    transform=lambda spark, df, silvers: df,\n",
    "    rules={\"user_id\": [\"not_null\"]},\n",
    "    table_name=\"silver_customers\"\n",
    ")\n",
    "\n",
    "print(\"✅ Pipeline built with parallel execution enabled\")\n",
    "print(\"   📦 Group 1: 2 bronze steps (parallel)\")\n",
    "print(\"   📦 Group 2: 2 silver steps (parallel)\")\n"
   ]
  },
  {
   "cell_type": "markdown",
   "metadata": {},
   "source": [
    "## 3. Execute & Watch the Logs!\n",
    "\n",
    "### ✨ Watch for These New Features:\n",
    "- 🚀 **Step start indicators** with emojis\n",
    "- ✅ **Completion messages** with duration, rows processed, and validation rates\n",
    "- 📦 **Execution group** logging showing parallel execution\n",
    "- ⚡ **Interleaved logs** from concurrent steps (when running in parallel)\n"
   ]
  },
  {
   "cell_type": "code",
   "execution_count": null,
   "metadata": {},
   "outputs": [],
   "source": [
    "# Execute the pipeline - watch the enhanced logging!\n",
    "pipeline = builder.to_pipeline()\n",
    "result = pipeline.run_initial_load(\n",
    "    bronze_sources={\n",
    "        \"bronze_events\": events_df,\n",
    "        \"bronze_profiles\": profiles_df\n",
    "    }\n",
    ")\n",
    "\n",
    "print(\"\\n\" + \"=\"*60)\n",
    "print(\"📊 PIPELINE EXECUTION COMPLETE\")\n",
    "print(\"=\"*60)\n"
   ]
  },
  {
   "cell_type": "markdown",
   "metadata": {},
   "source": [
    "## 4. Analyze Enhanced Results\n",
    "\n",
    "### NEW in v1.2.0: Detailed Step Results by Layer\n"
   ]
  },
  {
   "cell_type": "code",
   "execution_count": null,
   "metadata": {},
   "outputs": [],
   "source": [
    "print(f\"Status: {result.status}\")\n",
    "print(f\"Duration: {result.duration_seconds:.2f}s\")\n",
    "\n",
    "print(\"\\n📦 Parallel Execution Metrics:\")\n",
    "print(f\"   Execution Groups: {result.execution_groups_count}\")\n",
    "print(f\"   Max Parallelism: {result.max_group_size} concurrent steps\")\n",
    "print(f\"   Parallel Efficiency: {result.metrics.parallel_efficiency:.1f}%\")\n",
    "\n",
    "print(\"\\n📊 Overall Metrics:\")\n",
    "print(f\"   Total Steps: {result.metrics.total_steps}\")\n",
    "print(f\"   Successful: {result.metrics.successful_steps}\")\n",
    "print(f\"   Rows Processed: {result.metrics.total_rows_processed:,}\")\n",
    "print(f\"   Rows Written: {result.metrics.total_rows_written:,}\")\n",
    "\n",
    "print(\"\\n⏱️ Duration by Layer:\")\n",
    "print(f\"   Bronze: {result.metrics.bronze_duration:.2f}s\")\n",
    "print(f\"   Silver: {result.metrics.silver_duration:.2f}s\")\n"
   ]
  },
  {
   "cell_type": "markdown",
   "metadata": {},
   "source": [
    "## 5. Explore Step-Level Results\n",
    "\n",
    "### NEW: bronze_results, silver_results, gold_results dictionaries\n"
   ]
  },
  {
   "cell_type": "code",
   "execution_count": null,
   "metadata": {},
   "outputs": [],
   "source": [
    "# Bronze results\n",
    "print(\"🥉 Bronze Layer Results:\")\n",
    "for step_name, step_info in result.bronze_results.items():\n",
    "    print(f\"\\n   {step_name}:\")\n",
    "    print(f\"      Status: {step_info['status']}\")\n",
    "    print(f\"      Duration: {step_info['duration']:.2f}s\")\n",
    "    print(f\"      Rows Processed: {step_info['rows_processed']:,}\")\n",
    "\n",
    "# Silver results\n",
    "print(\"\\n🥈 Silver Layer Results:\")\n",
    "for step_name, step_info in result.silver_results.items():\n",
    "    print(f\"\\n   {step_name}:\")\n",
    "    print(f\"      Status: {step_info['status']}\")\n",
    "    print(f\"      Duration: {step_info['duration']:.2f}s\")\n",
    "    print(f\"      Rows Processed: {step_info['rows_processed']:,}\")\n",
    "    print(f\"      Output Table: {step_info['output_table']}\")\n"
   ]
  },
  {
   "cell_type": "markdown",
   "metadata": {},
   "source": [
    "## Summary: What's New in v1.2.0\n",
    "\n",
    "### 📊 **Enhanced Logging**\n",
    "- ✅ Unified format with timestamps\n",
    "- ✅ Rich metrics (rows processed/written, validation rates)\n",
    "- ✅ Visual indicators (🚀 ✅ ❌)\n",
    "- ✅ Smart formatting per layer\n",
    "\n",
    "### ⚡ **Parallel Execution**\n",
    "- ✅ Automatic dependency analysis\n",
    "- ✅ Concurrent step execution (3-5x faster!)\n",
    "- ✅ Real-time visibility in logs\n",
    "- ✅ Performance metrics\n",
    "\n",
    "### 📈 **Enhanced Reporting**\n",
    "- ✅ Detailed step results by layer (bronze_results, silver_results, gold_results)\n",
    "- ✅ Parallel efficiency metrics\n",
    "- ✅ Duration breakdowns\n",
    "- ✅ Comprehensive statistics\n",
    "\n",
    "### 🎯 **Quality**\n",
    "- ✅ 1,441 tests passing (100% pass rate)\n",
    "- ✅ 100% type safety (mypy compliant)\n",
    "- ✅ Zero security vulnerabilities\n",
    "- ✅ Fully backward compatible\n",
    "\n",
    "## Next Steps\n",
    "\n",
    "### Try These:\n",
    "- **Demo Scripts**: Run `python scripts/demo_logging.py` to see logging examples\n",
    "- **Parallel Demo**: Run `python scripts/demo_parallel_timing.py` for timing comparison\n",
    "- **Other Notebooks**: Check out `01_hello_world.ipynb` for basics\n",
    "\n",
    "### Learn More:\n",
    "- [Changelog](../docs/markdown/CHANGELOG.md) - Full v1.2.0 release notes\n",
    "- [User Guide](../docs/user_guide.rst) - Complete feature walkthrough\n",
    "- [API Reference](../docs/api_reference.rst) - Detailed API documentation\n"
   ]
  },
  {
   "cell_type": "markdown",
   "metadata": {},
   "source": []
  }
 ],
 "metadata": {
  "language_info": {
   "name": "python"
  }
 },
 "nbformat": 4,
 "nbformat_minor": 2
}
