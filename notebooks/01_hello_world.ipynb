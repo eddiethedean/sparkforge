{
  "cells": [
    {
      "cell_type": "markdown",
      "metadata": {},
      "source": [
        "# SparkForge Hello World - Interactive Tutorial\n",
        "\n",
        "Welcome to SparkForge! This notebook will walk you through building your first pipeline step by step.\n",
        "\n",
        "## What You'll Learn\n",
        "- How to create a simple Bronze → Silver → Gold pipeline\n",
        "- Basic data validation and transformation\n",
        "- Step-by-step execution and debugging\n",
        "\n",
        "## Prerequisites\n",
        "Make sure you have SparkForge installed:\n",
        "```bash\n",
        "pip install sparkforge pyspark\n",
        "```\n"
      ]
    }
  ],
  "metadata": {
    "language_info": {
      "name": "python"
    }
  },
  "nbformat": 4,
  "nbformat_minor": 2
}
